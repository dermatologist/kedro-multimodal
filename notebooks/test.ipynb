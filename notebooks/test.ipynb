{
 "cells": [
  {
   "cell_type": "code",
   "execution_count": 2,
   "metadata": {},
   "outputs": [
    {
     "name": "stdout",
     "output_type": "stream",
     "text": [
      "2023-01-04 16:10:10,249 - kedro.ipython - INFO - Resolved project path as: /home/M267492/kedro-multimodal.\n",
      "To set a different path, run '%reload_kedro <project_root>'\n",
      "2023-01-04 16:10:10,736 - py.warnings - WARNING - /home/M267492/venv/kedro/lib/python3.8/site-packages/kedro/framework/context/context.py:339: UserWarning: Credentials not found in your Kedro project config.\n",
      "No files found in ['/home/M267492/kedro-multimodal/conf/base', '/home/M267492/kedro-multimodal/conf/local'] matching the glob pattern(s): ['credentials*', 'credentials*/**', '**/credentials*']\n",
      "  warn(f\"Credentials not found in your Kedro project config.\\n{str(exc)}\")\n",
      "\n",
      "2023-01-04 16:10:10,745 - kedro.ipython - INFO - Kedro project Kedro TF Multimodal\n",
      "2023-01-04 16:10:10,746 - kedro.ipython - INFO - Defined global variable 'context', 'session', 'catalog' and 'pipelines'\n"
     ]
    }
   ],
   "source": [
    "%load_ext kedro.ipython"
   ]
  },
  {
   "cell_type": "code",
   "execution_count": 3,
   "metadata": {},
   "outputs": [
    {
     "name": "stdout",
     "output_type": "stream",
     "text": [
      "2023-01-04 16:10:48,496 - kedro.ipython - INFO - Resolved project path as: /home/M267492/kedro-multimodal.\n",
      "To set a different path, run '%reload_kedro <project_root>'\n",
      "2023-01-04 16:10:48,735 - py.warnings - WARNING - /home/M267492/venv/kedro/lib/python3.8/site-packages/kedro/framework/context/context.py:339: UserWarning: Credentials not found in your Kedro project config.\n",
      "No files found in ['/home/M267492/kedro-multimodal/conf/base', '/home/M267492/kedro-multimodal/conf/local'] matching the glob pattern(s): ['credentials*', 'credentials*/**', '**/credentials*']\n",
      "  warn(f\"Credentials not found in your Kedro project config.\\n{str(exc)}\")\n",
      "\n",
      "2023-01-04 16:10:48,744 - kedro.ipython - INFO - Kedro project Kedro TF Multimodal\n",
      "2023-01-04 16:10:48,745 - kedro.ipython - INFO - Defined global variable 'context', 'session', 'catalog' and 'pipelines'\n"
     ]
    },
    {
     "data": {
      "text/html": [
       "<pre style=\"white-space:pre;overflow-x:auto;line-height:normal;font-family:Menlo,'DejaVu Sans Mono',consolas,'Courier New',monospace\">\n",
       "<span style=\"font-weight: bold\">[</span>\n",
       "    <span style=\"color: #008000; text-decoration-color: #008000\">'text_data'</span>,\n",
       "    <span style=\"color: #008000; text-decoration-color: #008000\">'tabular_model_saved'</span>,\n",
       "    <span style=\"color: #008000; text-decoration-color: #008000\">'image_data'</span>,\n",
       "    <span style=\"color: #008000; text-decoration-color: #008000\">'chexnet_weights'</span>,\n",
       "    <span style=\"color: #008000; text-decoration-color: #008000\">'tabular_data'</span>,\n",
       "    <span style=\"color: #008000; text-decoration-color: #008000\">'bert_model'</span>,\n",
       "    <span style=\"color: #008000; text-decoration-color: #008000\">'bert_model_saved'</span>,\n",
       "    <span style=\"color: #008000; text-decoration-color: #008000\">'fusion_model'</span>,\n",
       "    <span style=\"color: #008000; text-decoration-color: #008000\">'trained_model'</span>,\n",
       "    <span style=\"color: #008000; text-decoration-color: #008000\">'datasetinmemory'</span>,\n",
       "    <span style=\"color: #008000; text-decoration-color: #008000\">'parameters'</span>,\n",
       "    <span style=\"color: #008000; text-decoration-color: #008000\">'params:fusion'</span>,\n",
       "    <span style=\"color: #008000; text-decoration-color: #008000\">'params:fusion.MAX_NUM_WORDS'</span>,\n",
       "    <span style=\"color: #008000; text-decoration-color: #008000\">'params:fusion.EMBEDDING_DIM'</span>,\n",
       "    <span style=\"color: #008000; text-decoration-color: #008000\">'params:fusion.MAX_SEQ_LENGTH'</span>,\n",
       "    <span style=\"color: #008000; text-decoration-color: #008000\">'params:fusion.REPORT_FIELD'</span>,\n",
       "    <span style=\"color: #008000; text-decoration-color: #008000\">'params:fusion.ID_FIELD'</span>,\n",
       "    <span style=\"color: #008000; text-decoration-color: #008000\">'params:fusion.ID'</span>,\n",
       "    <span style=\"color: #008000; text-decoration-color: #008000\">'params:fusion.TARGET'</span>,\n",
       "    <span style=\"color: #008000; text-decoration-color: #008000\">'params:fusion.DROP'</span>,\n",
       "    <span style=\"color: #008000; text-decoration-color: #008000\">'params:fusion.EARLY_FUSION'</span>,\n",
       "    <span style=\"color: #008000; text-decoration-color: #008000\">'params:fusion.train_embedding'</span>,\n",
       "    <span style=\"color: #008000; text-decoration-color: #008000\">'params:fusion.DENSE_LAYER'</span>,\n",
       "    <span style=\"color: #008000; text-decoration-color: #008000\">'params:fusion.EPOCHS'</span>,\n",
       "    <span style=\"color: #008000; text-decoration-color: #008000\">'params:fusion.NCLASSES'</span>,\n",
       "    <span style=\"color: #008000; text-decoration-color: #008000\">'params:bert_model'</span>,\n",
       "    <span style=\"color: #008000; text-decoration-color: #008000\">'params:bert_model.MAX_LENGTH'</span>,\n",
       "    <span style=\"color: #008000; text-decoration-color: #008000\">'params:bert_model.NCLASSES'</span>,\n",
       "    <span style=\"color: #008000; text-decoration-color: #008000\">'params:bert_model.REPORT_FIELD'</span>,\n",
       "    <span style=\"color: #008000; text-decoration-color: #008000\">'params:bert_model.ID'</span>,\n",
       "    <span style=\"color: #008000; text-decoration-color: #008000\">'params:bert_model.TARGET'</span>,\n",
       "    <span style=\"color: #008000; text-decoration-color: #008000\">'params:bert_model.DROP'</span>,\n",
       "    <span style=\"color: #008000; text-decoration-color: #008000\">'params:train'</span>,\n",
       "    <span style=\"color: #008000; text-decoration-color: #008000\">'params:train.MAX_LENGTH'</span>,\n",
       "    <span style=\"color: #008000; text-decoration-color: #008000\">'params:train.NCLASSES'</span>,\n",
       "    <span style=\"color: #008000; text-decoration-color: #008000\">'params:train.REPORT_FIELD'</span>,\n",
       "    <span style=\"color: #008000; text-decoration-color: #008000\">'params:train.ID'</span>,\n",
       "    <span style=\"color: #008000; text-decoration-color: #008000\">'params:train.TARGET'</span>,\n",
       "    <span style=\"color: #008000; text-decoration-color: #008000\">'params:train.DROP'</span>\n",
       "<span style=\"font-weight: bold\">]</span>\n",
       "</pre>\n"
      ],
      "text/plain": [
       "\n",
       "\u001b[1m[\u001b[0m\n",
       "    \u001b[32m'text_data'\u001b[0m,\n",
       "    \u001b[32m'tabular_model_saved'\u001b[0m,\n",
       "    \u001b[32m'image_data'\u001b[0m,\n",
       "    \u001b[32m'chexnet_weights'\u001b[0m,\n",
       "    \u001b[32m'tabular_data'\u001b[0m,\n",
       "    \u001b[32m'bert_model'\u001b[0m,\n",
       "    \u001b[32m'bert_model_saved'\u001b[0m,\n",
       "    \u001b[32m'fusion_model'\u001b[0m,\n",
       "    \u001b[32m'trained_model'\u001b[0m,\n",
       "    \u001b[32m'datasetinmemory'\u001b[0m,\n",
       "    \u001b[32m'parameters'\u001b[0m,\n",
       "    \u001b[32m'params:fusion'\u001b[0m,\n",
       "    \u001b[32m'params:fusion.MAX_NUM_WORDS'\u001b[0m,\n",
       "    \u001b[32m'params:fusion.EMBEDDING_DIM'\u001b[0m,\n",
       "    \u001b[32m'params:fusion.MAX_SEQ_LENGTH'\u001b[0m,\n",
       "    \u001b[32m'params:fusion.REPORT_FIELD'\u001b[0m,\n",
       "    \u001b[32m'params:fusion.ID_FIELD'\u001b[0m,\n",
       "    \u001b[32m'params:fusion.ID'\u001b[0m,\n",
       "    \u001b[32m'params:fusion.TARGET'\u001b[0m,\n",
       "    \u001b[32m'params:fusion.DROP'\u001b[0m,\n",
       "    \u001b[32m'params:fusion.EARLY_FUSION'\u001b[0m,\n",
       "    \u001b[32m'params:fusion.train_embedding'\u001b[0m,\n",
       "    \u001b[32m'params:fusion.DENSE_LAYER'\u001b[0m,\n",
       "    \u001b[32m'params:fusion.EPOCHS'\u001b[0m,\n",
       "    \u001b[32m'params:fusion.NCLASSES'\u001b[0m,\n",
       "    \u001b[32m'params:bert_model'\u001b[0m,\n",
       "    \u001b[32m'params:bert_model.MAX_LENGTH'\u001b[0m,\n",
       "    \u001b[32m'params:bert_model.NCLASSES'\u001b[0m,\n",
       "    \u001b[32m'params:bert_model.REPORT_FIELD'\u001b[0m,\n",
       "    \u001b[32m'params:bert_model.ID'\u001b[0m,\n",
       "    \u001b[32m'params:bert_model.TARGET'\u001b[0m,\n",
       "    \u001b[32m'params:bert_model.DROP'\u001b[0m,\n",
       "    \u001b[32m'params:train'\u001b[0m,\n",
       "    \u001b[32m'params:train.MAX_LENGTH'\u001b[0m,\n",
       "    \u001b[32m'params:train.NCLASSES'\u001b[0m,\n",
       "    \u001b[32m'params:train.REPORT_FIELD'\u001b[0m,\n",
       "    \u001b[32m'params:train.ID'\u001b[0m,\n",
       "    \u001b[32m'params:train.TARGET'\u001b[0m,\n",
       "    \u001b[32m'params:train.DROP'\u001b[0m\n",
       "\u001b[1m]\u001b[0m\n"
      ]
     },
     "metadata": {},
     "output_type": "display_data"
    }
   ],
   "source": [
    "%reload_kedro\n",
    "catalog.list()"
   ]
  }
 ],
 "metadata": {
  "kernelspec": {
   "display_name": "kedro",
   "language": "python",
   "name": "python3"
  },
  "language_info": {
   "codemirror_mode": {
    "name": "ipython",
    "version": 3
   },
   "file_extension": ".py",
   "mimetype": "text/x-python",
   "name": "python",
   "nbconvert_exporter": "python",
   "pygments_lexer": "ipython3",
   "version": "3.8.10"
  },
  "orig_nbformat": 4,
  "vscode": {
   "interpreter": {
    "hash": "5e97cf23a8c79fbc5bfc199828e442108bdf7a6dc4d7f1b2e123a5b10aef00e1"
   }
  }
 },
 "nbformat": 4,
 "nbformat_minor": 2
}
